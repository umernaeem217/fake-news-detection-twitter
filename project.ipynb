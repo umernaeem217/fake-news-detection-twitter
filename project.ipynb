{
 "cells": [
  {
   "cell_type": "code",
   "execution_count": 1,
   "metadata": {},
   "outputs": [],
   "source": [
    "import torch\n",
    "import torch.nn.functional as F\n",
    "from torch_geometric.data import DataLoader\n",
    "from torch.utils.data import random_split\n",
    "from tqdm import tqdm\n",
    "import pandas as pd\n",
    "import matplotlib.pyplot as plt\n",
    "import seaborn as sns\n",
    "\n",
    "from fake_news_dataset import FakeNewsDataSet\n",
    "from fake_news_graph_model import FakeNewsGraphModel\n",
    "from fake_news_mlp_model import FakeNewsMLPModel\n",
    "from utils.undirected_transformer import UndirectedTransformer\n",
    "from utils.evaulator import evaluate"
   ]
  },
  {
   "cell_type": "code",
   "execution_count": 2,
   "metadata": {},
   "outputs": [],
   "source": [
    "@torch.no_grad()\n",
    "def compute_test(model, loader, device='cpu', multi_gpu=False, verbose=False):\n",
    "    model.eval()\n",
    "    loss_test = 0.0\n",
    "    out_log = []\n",
    "\n",
    "    for data in loader:\n",
    "        if not multi_gpu:\n",
    "            data = data.to(device)\n",
    "\n",
    "        out = model(data)\n",
    "        if multi_gpu:\n",
    "            y = torch.cat([d.y.unsqueeze(0) for d in data]).squeeze().to(out.device)\n",
    "        else:\n",
    "            y = data.y\n",
    "\n",
    "        if verbose:\n",
    "            print(F.softmax(out, dim=1).cpu().numpy())\n",
    "\n",
    "        out_log.append([F.softmax(out, dim=1), y])\n",
    "        loss_test += F.nll_loss(out, y).item()\n",
    "\n",
    "    evaluation_metrics = evaluate(out_log, loader)\n",
    "    return evaluation_metrics, loss_test"
   ]
  },
  {
   "cell_type": "code",
   "execution_count": 3,
   "metadata": {},
   "outputs": [],
   "source": [
    "def run_experiment(dataset_name, feature_type, base_type, model_type=None, \n",
    "                   seed=777, epochs=30, batch_size=128, lr=0.01, wd=0.01, hidden_size=128, dropout=0.0, device='cpu'):\n",
    "    \"\"\"\n",
    "    Runs a single training/validation/testing experiment with given parameters.\n",
    "    Returns the final test metrics.\n",
    "    \"\"\"\n",
    "    # Set seeds\n",
    "    torch.manual_seed(seed)\n",
    "    if torch.cuda.is_available():\n",
    "        torch.cuda.manual_seed(seed)\n",
    "\n",
    "    # Load dataset\n",
    "    dataset = FakeNewsDataSet(\n",
    "        root='data',\n",
    "        feature=feature_type,\n",
    "        empty=False,\n",
    "        name=dataset_name,\n",
    "        transform=UndirectedTransformer()\n",
    "    )\n",
    "    num_classes = dataset.num_classes\n",
    "    num_features = dataset.num_features\n",
    "\n",
    "    # Split dataset\n",
    "    num_training = int(len(dataset) * 0.2)\n",
    "    num_val = int(len(dataset) * 0.1)\n",
    "    num_test = len(dataset) - (num_training + num_val)\n",
    "    training_set, validation_set, test_set = random_split(dataset, [num_training, num_val, num_test])\n",
    "\n",
    "    train_loader = DataLoader(training_set, batch_size=batch_size, shuffle=True)\n",
    "    val_loader = DataLoader(validation_set, batch_size=batch_size, shuffle=False)\n",
    "    test_loader = DataLoader(test_set, batch_size=batch_size, shuffle=False)\n",
    "\n",
    "    # Select model\n",
    "    if base_type.lower() == 'graph':\n",
    "        if model_type is None:\n",
    "            raise ValueError(\"model_type must be specified for GraphModel base.\")\n",
    "        model = FakeNewsGraphModel(\n",
    "            num_features=num_features,\n",
    "            nhid=hidden_size,\n",
    "            num_classes=num_classes,\n",
    "            dropout_ratio=dropout,\n",
    "            model_type=model_type,\n",
    "            concat=(feature_type=='bert')  # As before, we can choose to concat if using BERT\n",
    "        )\n",
    "    elif base_type.lower() == 'mlp':\n",
    "        model = FakeNewsMLPModel(\n",
    "            num_features=num_features,\n",
    "            nhid=hidden_size,\n",
    "            num_classes=num_classes,\n",
    "            dropout_ratio=dropout,\n",
    "            pool_type='mean'  # or 'max'\n",
    "        )\n",
    "    else:\n",
    "        raise ValueError(\"Invalid base_type. Choose 'graph' or 'mlp'.\")\n",
    "\n",
    "    model = model.to(device)\n",
    "    optimizer = torch.optim.Adam(model.parameters(), lr=lr, weight_decay=wd)\n",
    "\n",
    "    best_val_loss = float('inf')\n",
    "\n",
    "    # Training\n",
    "    for epoch in range(epochs):\n",
    "        model.train()\n",
    "        loss_train = 0.0\n",
    "        out_log = []\n",
    "\n",
    "        for data in train_loader:\n",
    "            data = data.to(device)\n",
    "            optimizer.zero_grad()\n",
    "            out = model(data)\n",
    "            loss = F.nll_loss(out, data.y)\n",
    "            loss.backward()\n",
    "            optimizer.step()\n",
    "            loss_train += loss.item()\n",
    "            out_log.append([F.softmax(out, dim=1), data.y])\n",
    "\n",
    "        acc_train, _, _, _, recall_train, auc_train, _ = evaluate(out_log, train_loader)\n",
    "        [acc_val, _, _, _, recall_val, auc_val, _], loss_val = compute_test(model, val_loader, device=device)\n",
    "\n",
    "        # You could implement early stopping if desired\n",
    "        # if loss_val < best_val_loss:\n",
    "        #     best_val_loss = loss_val\n",
    "        #     best_model_state = copy.deepcopy(model.state_dict())\n",
    "\n",
    "    # Testing\n",
    "    [acc, f1_macro, f1_micro, precision, recall, auc, ap], test_loss = compute_test(model, test_loader, device=device)\n",
    "\n",
    "    return {\n",
    "        'dataset': dataset_name,\n",
    "        'feature': feature_type,\n",
    "        'base': base_type,\n",
    "        'model': model_type if model_type else 'mlp',\n",
    "        'acc': acc,\n",
    "        'f1_macro': f1_macro,\n",
    "        'f1_micro': f1_micro,\n",
    "        'precision': precision,\n",
    "        'recall': recall,\n",
    "        'auc': auc,\n",
    "        'ap': ap\n",
    "    }"
   ]
  },
  {
   "cell_type": "code",
   "execution_count": 6,
   "metadata": {},
   "outputs": [],
   "source": [
    "configurations = [\n",
    "    # politifact\n",
    "    {'dataset': 'politifact', 'model_type': 'gcn', 'feature_type': 'bert', 'base_type': 'graph'},\n",
    "    {'dataset': 'politifact', 'model_type': 'gat', 'feature_type': 'bert', 'base_type': 'graph'},\n",
    "    {'dataset': 'politifact', 'model_type': 'sage', 'feature_type': 'bert', 'base_type': 'graph'},\n",
    "    {'dataset': 'politifact', 'feature_type': 'bert', 'base_type': 'mlp'},  # MLP no model_type\n",
    "\n",
    "    # gossipcop\n",
    "    {'dataset': 'gossipcop', 'model_type': 'gcn', 'feature_type': 'bert', 'base_type': 'graph'},\n",
    "    {'dataset': 'gossipcop', 'model_type': 'gat', 'feature_type': 'bert', 'base_type': 'graph'},\n",
    "    {'dataset': 'gossipcop', 'model_type': 'sage', 'feature_type': 'bert', 'base_type': 'graph'},\n",
    "    {'dataset': 'gossipcop', 'feature_type': 'bert', 'base_type': 'mlp'}  # MLP no model_type\n",
    "]"
   ]
  },
  {
   "cell_type": "code",
   "execution_count": 7,
   "metadata": {},
   "outputs": [
    {
     "name": "stdout",
     "output_type": "stream",
     "text": [
      "Running: dataset=politifact, feature=bert, base=graph, model=gcn\n"
     ]
    },
    {
     "name": "stderr",
     "output_type": "stream",
     "text": [
      "/Users/umernaeem/Repos/SeniorProject/fake_news_dataset.py:20: FutureWarning: You are using `torch.load` with `weights_only=False` (the current default value), which uses the default pickle module implicitly. It is possible to construct malicious pickle data which will execute arbitrary code during unpickling (See https://github.com/pytorch/pytorch/blob/main/SECURITY.md#untrusted-models for more details). In a future release, the default value for `weights_only` will be flipped to `True`. This limits the functions that could be executed during unpickling. Arbitrary objects will no longer be allowed to be loaded via this mode unless they are explicitly allowlisted by the user via `torch.serialization.add_safe_globals`. We recommend you start setting `weights_only=True` for any use case where you don't have full control of the loaded file. Please open an issue on GitHub for any issues related to this experimental feature.\n",
      "  self.data, self.slices = torch.load(self.processed_paths[0])\n",
      "/Users/umernaeem/.pyenv/versions/3.12.7/envs/venv/lib/python3.12/site-packages/torch_geometric/deprecation.py:26: UserWarning: 'data.DataLoader' is deprecated, use 'loader.DataLoader' instead\n",
      "  warnings.warn(out)\n"
     ]
    },
    {
     "name": "stdout",
     "output_type": "stream",
     "text": [
      "Running: dataset=politifact, feature=bert, base=graph, model=gat\n"
     ]
    },
    {
     "name": "stderr",
     "output_type": "stream",
     "text": [
      "/Users/umernaeem/Repos/SeniorProject/fake_news_dataset.py:20: FutureWarning: You are using `torch.load` with `weights_only=False` (the current default value), which uses the default pickle module implicitly. It is possible to construct malicious pickle data which will execute arbitrary code during unpickling (See https://github.com/pytorch/pytorch/blob/main/SECURITY.md#untrusted-models for more details). In a future release, the default value for `weights_only` will be flipped to `True`. This limits the functions that could be executed during unpickling. Arbitrary objects will no longer be allowed to be loaded via this mode unless they are explicitly allowlisted by the user via `torch.serialization.add_safe_globals`. We recommend you start setting `weights_only=True` for any use case where you don't have full control of the loaded file. Please open an issue on GitHub for any issues related to this experimental feature.\n",
      "  self.data, self.slices = torch.load(self.processed_paths[0])\n",
      "/Users/umernaeem/.pyenv/versions/3.12.7/envs/venv/lib/python3.12/site-packages/torch_geometric/deprecation.py:26: UserWarning: 'data.DataLoader' is deprecated, use 'loader.DataLoader' instead\n",
      "  warnings.warn(out)\n"
     ]
    },
    {
     "name": "stdout",
     "output_type": "stream",
     "text": [
      "Running: dataset=politifact, feature=bert, base=graph, model=sage\n"
     ]
    },
    {
     "name": "stderr",
     "output_type": "stream",
     "text": [
      "/Users/umernaeem/Repos/SeniorProject/fake_news_dataset.py:20: FutureWarning: You are using `torch.load` with `weights_only=False` (the current default value), which uses the default pickle module implicitly. It is possible to construct malicious pickle data which will execute arbitrary code during unpickling (See https://github.com/pytorch/pytorch/blob/main/SECURITY.md#untrusted-models for more details). In a future release, the default value for `weights_only` will be flipped to `True`. This limits the functions that could be executed during unpickling. Arbitrary objects will no longer be allowed to be loaded via this mode unless they are explicitly allowlisted by the user via `torch.serialization.add_safe_globals`. We recommend you start setting `weights_only=True` for any use case where you don't have full control of the loaded file. Please open an issue on GitHub for any issues related to this experimental feature.\n",
      "  self.data, self.slices = torch.load(self.processed_paths[0])\n",
      "/Users/umernaeem/.pyenv/versions/3.12.7/envs/venv/lib/python3.12/site-packages/torch_geometric/deprecation.py:26: UserWarning: 'data.DataLoader' is deprecated, use 'loader.DataLoader' instead\n",
      "  warnings.warn(out)\n"
     ]
    },
    {
     "name": "stdout",
     "output_type": "stream",
     "text": [
      "Running: dataset=politifact, feature=bert, base=mlp, model=mlp\n"
     ]
    },
    {
     "name": "stderr",
     "output_type": "stream",
     "text": [
      "/Users/umernaeem/Repos/SeniorProject/fake_news_dataset.py:20: FutureWarning: You are using `torch.load` with `weights_only=False` (the current default value), which uses the default pickle module implicitly. It is possible to construct malicious pickle data which will execute arbitrary code during unpickling (See https://github.com/pytorch/pytorch/blob/main/SECURITY.md#untrusted-models for more details). In a future release, the default value for `weights_only` will be flipped to `True`. This limits the functions that could be executed during unpickling. Arbitrary objects will no longer be allowed to be loaded via this mode unless they are explicitly allowlisted by the user via `torch.serialization.add_safe_globals`. We recommend you start setting `weights_only=True` for any use case where you don't have full control of the loaded file. Please open an issue on GitHub for any issues related to this experimental feature.\n",
      "  self.data, self.slices = torch.load(self.processed_paths[0])\n",
      "/Users/umernaeem/.pyenv/versions/3.12.7/envs/venv/lib/python3.12/site-packages/torch_geometric/deprecation.py:26: UserWarning: 'data.DataLoader' is deprecated, use 'loader.DataLoader' instead\n",
      "  warnings.warn(out)\n"
     ]
    },
    {
     "name": "stdout",
     "output_type": "stream",
     "text": [
      "Running: dataset=gossipcop, feature=bert, base=graph, model=gcn\n"
     ]
    },
    {
     "name": "stderr",
     "output_type": "stream",
     "text": [
      "/Users/umernaeem/Repos/SeniorProject/fake_news_dataset.py:20: FutureWarning: You are using `torch.load` with `weights_only=False` (the current default value), which uses the default pickle module implicitly. It is possible to construct malicious pickle data which will execute arbitrary code during unpickling (See https://github.com/pytorch/pytorch/blob/main/SECURITY.md#untrusted-models for more details). In a future release, the default value for `weights_only` will be flipped to `True`. This limits the functions that could be executed during unpickling. Arbitrary objects will no longer be allowed to be loaded via this mode unless they are explicitly allowlisted by the user via `torch.serialization.add_safe_globals`. We recommend you start setting `weights_only=True` for any use case where you don't have full control of the loaded file. Please open an issue on GitHub for any issues related to this experimental feature.\n",
      "  self.data, self.slices = torch.load(self.processed_paths[0])\n",
      "/Users/umernaeem/.pyenv/versions/3.12.7/envs/venv/lib/python3.12/site-packages/torch_geometric/deprecation.py:26: UserWarning: 'data.DataLoader' is deprecated, use 'loader.DataLoader' instead\n",
      "  warnings.warn(out)\n"
     ]
    },
    {
     "name": "stdout",
     "output_type": "stream",
     "text": [
      "Running: dataset=gossipcop, feature=bert, base=graph, model=gat\n"
     ]
    },
    {
     "name": "stderr",
     "output_type": "stream",
     "text": [
      "/Users/umernaeem/Repos/SeniorProject/fake_news_dataset.py:20: FutureWarning: You are using `torch.load` with `weights_only=False` (the current default value), which uses the default pickle module implicitly. It is possible to construct malicious pickle data which will execute arbitrary code during unpickling (See https://github.com/pytorch/pytorch/blob/main/SECURITY.md#untrusted-models for more details). In a future release, the default value for `weights_only` will be flipped to `True`. This limits the functions that could be executed during unpickling. Arbitrary objects will no longer be allowed to be loaded via this mode unless they are explicitly allowlisted by the user via `torch.serialization.add_safe_globals`. We recommend you start setting `weights_only=True` for any use case where you don't have full control of the loaded file. Please open an issue on GitHub for any issues related to this experimental feature.\n",
      "  self.data, self.slices = torch.load(self.processed_paths[0])\n",
      "/Users/umernaeem/.pyenv/versions/3.12.7/envs/venv/lib/python3.12/site-packages/torch_geometric/deprecation.py:26: UserWarning: 'data.DataLoader' is deprecated, use 'loader.DataLoader' instead\n",
      "  warnings.warn(out)\n"
     ]
    },
    {
     "name": "stdout",
     "output_type": "stream",
     "text": [
      "Running: dataset=gossipcop, feature=bert, base=graph, model=sage\n"
     ]
    },
    {
     "name": "stderr",
     "output_type": "stream",
     "text": [
      "/Users/umernaeem/Repos/SeniorProject/fake_news_dataset.py:20: FutureWarning: You are using `torch.load` with `weights_only=False` (the current default value), which uses the default pickle module implicitly. It is possible to construct malicious pickle data which will execute arbitrary code during unpickling (See https://github.com/pytorch/pytorch/blob/main/SECURITY.md#untrusted-models for more details). In a future release, the default value for `weights_only` will be flipped to `True`. This limits the functions that could be executed during unpickling. Arbitrary objects will no longer be allowed to be loaded via this mode unless they are explicitly allowlisted by the user via `torch.serialization.add_safe_globals`. We recommend you start setting `weights_only=True` for any use case where you don't have full control of the loaded file. Please open an issue on GitHub for any issues related to this experimental feature.\n",
      "  self.data, self.slices = torch.load(self.processed_paths[0])\n",
      "/Users/umernaeem/.pyenv/versions/3.12.7/envs/venv/lib/python3.12/site-packages/torch_geometric/deprecation.py:26: UserWarning: 'data.DataLoader' is deprecated, use 'loader.DataLoader' instead\n",
      "  warnings.warn(out)\n"
     ]
    },
    {
     "name": "stdout",
     "output_type": "stream",
     "text": [
      "Running: dataset=gossipcop, feature=bert, base=mlp, model=mlp\n"
     ]
    },
    {
     "name": "stderr",
     "output_type": "stream",
     "text": [
      "/Users/umernaeem/Repos/SeniorProject/fake_news_dataset.py:20: FutureWarning: You are using `torch.load` with `weights_only=False` (the current default value), which uses the default pickle module implicitly. It is possible to construct malicious pickle data which will execute arbitrary code during unpickling (See https://github.com/pytorch/pytorch/blob/main/SECURITY.md#untrusted-models for more details). In a future release, the default value for `weights_only` will be flipped to `True`. This limits the functions that could be executed during unpickling. Arbitrary objects will no longer be allowed to be loaded via this mode unless they are explicitly allowlisted by the user via `torch.serialization.add_safe_globals`. We recommend you start setting `weights_only=True` for any use case where you don't have full control of the loaded file. Please open an issue on GitHub for any issues related to this experimental feature.\n",
      "  self.data, self.slices = torch.load(self.processed_paths[0])\n",
      "/Users/umernaeem/.pyenv/versions/3.12.7/envs/venv/lib/python3.12/site-packages/torch_geometric/deprecation.py:26: UserWarning: 'data.DataLoader' is deprecated, use 'loader.DataLoader' instead\n",
      "  warnings.warn(out)\n"
     ]
    }
   ],
   "source": [
    "DEVICE = 'cuda:0' if torch.cuda.is_available() else 'cpu'\n",
    "EPOCHS = 30\n",
    "\n",
    "results = []\n",
    "for cfg in configurations:\n",
    "    print(f\"Running: dataset={cfg['dataset']}, feature={cfg['feature_type']}, base={cfg['base_type']}, model={cfg.get('model_type', 'mlp')}\")\n",
    "    res = run_experiment(\n",
    "        dataset_name=cfg['dataset'],\n",
    "        feature_type=cfg['feature_type'],\n",
    "        base_type=cfg['base_type'],\n",
    "        model_type=cfg.get('model_type', None),\n",
    "        device=DEVICE,\n",
    "        epochs=EPOCHS\n",
    "    )\n",
    "    results.append(res)"
   ]
  },
  {
   "cell_type": "code",
   "execution_count": 8,
   "metadata": {},
   "outputs": [
    {
     "data": {
      "text/html": [
       "<div>\n",
       "<style scoped>\n",
       "    .dataframe tbody tr th:only-of-type {\n",
       "        vertical-align: middle;\n",
       "    }\n",
       "\n",
       "    .dataframe tbody tr th {\n",
       "        vertical-align: top;\n",
       "    }\n",
       "\n",
       "    .dataframe thead th {\n",
       "        text-align: right;\n",
       "    }\n",
       "</style>\n",
       "<table border=\"1\" class=\"dataframe\">\n",
       "  <thead>\n",
       "    <tr style=\"text-align: right;\">\n",
       "      <th></th>\n",
       "      <th>dataset</th>\n",
       "      <th>feature</th>\n",
       "      <th>base</th>\n",
       "      <th>model</th>\n",
       "      <th>acc</th>\n",
       "      <th>f1_macro</th>\n",
       "      <th>f1_micro</th>\n",
       "      <th>precision</th>\n",
       "      <th>recall</th>\n",
       "      <th>auc</th>\n",
       "      <th>ap</th>\n",
       "    </tr>\n",
       "  </thead>\n",
       "  <tbody>\n",
       "    <tr>\n",
       "      <th>0</th>\n",
       "      <td>politifact</td>\n",
       "      <td>bert</td>\n",
       "      <td>graph</td>\n",
       "      <td>gcn</td>\n",
       "      <td>0.787330</td>\n",
       "      <td>0.784000</td>\n",
       "      <td>0.787330</td>\n",
       "      <td>0.891232</td>\n",
       "      <td>0.662462</td>\n",
       "      <td>0.893559</td>\n",
       "      <td>0.891566</td>\n",
       "    </tr>\n",
       "    <tr>\n",
       "      <th>1</th>\n",
       "      <td>politifact</td>\n",
       "      <td>bert</td>\n",
       "      <td>graph</td>\n",
       "      <td>gat</td>\n",
       "      <td>0.837104</td>\n",
       "      <td>0.836535</td>\n",
       "      <td>0.837104</td>\n",
       "      <td>0.859048</td>\n",
       "      <td>0.813638</td>\n",
       "      <td>0.885120</td>\n",
       "      <td>0.889080</td>\n",
       "    </tr>\n",
       "    <tr>\n",
       "      <th>2</th>\n",
       "      <td>politifact</td>\n",
       "      <td>bert</td>\n",
       "      <td>graph</td>\n",
       "      <td>sage</td>\n",
       "      <td>0.828054</td>\n",
       "      <td>0.827454</td>\n",
       "      <td>0.828054</td>\n",
       "      <td>0.856405</td>\n",
       "      <td>0.796045</td>\n",
       "      <td>0.890118</td>\n",
       "      <td>0.886694</td>\n",
       "    </tr>\n",
       "    <tr>\n",
       "      <th>3</th>\n",
       "      <td>politifact</td>\n",
       "      <td>bert</td>\n",
       "      <td>mlp</td>\n",
       "      <td>mlp</td>\n",
       "      <td>0.488688</td>\n",
       "      <td>0.327963</td>\n",
       "      <td>0.488688</td>\n",
       "      <td>0.000000</td>\n",
       "      <td>0.000000</td>\n",
       "      <td>0.814405</td>\n",
       "      <td>0.794476</td>\n",
       "    </tr>\n",
       "    <tr>\n",
       "      <th>4</th>\n",
       "      <td>gossipcop</td>\n",
       "      <td>bert</td>\n",
       "      <td>graph</td>\n",
       "      <td>gcn</td>\n",
       "      <td>0.934658</td>\n",
       "      <td>0.934339</td>\n",
       "      <td>0.934658</td>\n",
       "      <td>0.936130</td>\n",
       "      <td>0.933162</td>\n",
       "      <td>0.974749</td>\n",
       "      <td>0.974218</td>\n",
       "    </tr>\n",
       "    <tr>\n",
       "      <th>5</th>\n",
       "      <td>gossipcop</td>\n",
       "      <td>bert</td>\n",
       "      <td>graph</td>\n",
       "      <td>gat</td>\n",
       "      <td>0.953476</td>\n",
       "      <td>0.953203</td>\n",
       "      <td>0.953476</td>\n",
       "      <td>0.926855</td>\n",
       "      <td>0.985336</td>\n",
       "      <td>0.992642</td>\n",
       "      <td>0.993032</td>\n",
       "    </tr>\n",
       "    <tr>\n",
       "      <th>6</th>\n",
       "      <td>gossipcop</td>\n",
       "      <td>bert</td>\n",
       "      <td>graph</td>\n",
       "      <td>sage</td>\n",
       "      <td>0.952431</td>\n",
       "      <td>0.952131</td>\n",
       "      <td>0.952431</td>\n",
       "      <td>0.927797</td>\n",
       "      <td>0.982158</td>\n",
       "      <td>0.989233</td>\n",
       "      <td>0.989168</td>\n",
       "    </tr>\n",
       "    <tr>\n",
       "      <th>7</th>\n",
       "      <td>gossipcop</td>\n",
       "      <td>bert</td>\n",
       "      <td>mlp</td>\n",
       "      <td>mlp</td>\n",
       "      <td>0.884475</td>\n",
       "      <td>0.882735</td>\n",
       "      <td>0.884475</td>\n",
       "      <td>0.822958</td>\n",
       "      <td>0.981140</td>\n",
       "      <td>0.968530</td>\n",
       "      <td>0.964755</td>\n",
       "    </tr>\n",
       "  </tbody>\n",
       "</table>\n",
       "</div>"
      ],
      "text/plain": [
       "      dataset feature   base model       acc  f1_macro  f1_micro  precision  \\\n",
       "0  politifact    bert  graph   gcn  0.787330  0.784000  0.787330   0.891232   \n",
       "1  politifact    bert  graph   gat  0.837104  0.836535  0.837104   0.859048   \n",
       "2  politifact    bert  graph  sage  0.828054  0.827454  0.828054   0.856405   \n",
       "3  politifact    bert    mlp   mlp  0.488688  0.327963  0.488688   0.000000   \n",
       "4   gossipcop    bert  graph   gcn  0.934658  0.934339  0.934658   0.936130   \n",
       "5   gossipcop    bert  graph   gat  0.953476  0.953203  0.953476   0.926855   \n",
       "6   gossipcop    bert  graph  sage  0.952431  0.952131  0.952431   0.927797   \n",
       "7   gossipcop    bert    mlp   mlp  0.884475  0.882735  0.884475   0.822958   \n",
       "\n",
       "     recall       auc        ap  \n",
       "0  0.662462  0.893559  0.891566  \n",
       "1  0.813638  0.885120  0.889080  \n",
       "2  0.796045  0.890118  0.886694  \n",
       "3  0.000000  0.814405  0.794476  \n",
       "4  0.933162  0.974749  0.974218  \n",
       "5  0.985336  0.992642  0.993032  \n",
       "6  0.982158  0.989233  0.989168  \n",
       "7  0.981140  0.968530  0.964755  "
      ]
     },
     "execution_count": 8,
     "metadata": {},
     "output_type": "execute_result"
    }
   ],
   "source": [
    "df = pd.DataFrame(results)\n",
    "df"
   ]
  },
  {
   "cell_type": "code",
   "execution_count": 9,
   "metadata": {},
   "outputs": [
    {
     "data": {
      "image/png": "[encoded data removed]",
      "text/plain": [
       "<Figure size 1200x600 with 1 Axes>"
      ]
     },
     "metadata": {},
     "output_type": "display_data"
    }
   ],
   "source": [
    "plt.figure(figsize=(12,6))\n",
    "sns.barplot(data=df, x='dataset', y='acc', hue='model')\n",
    "plt.title('Accuracy Comparison Across Configurations')\n",
    "plt.ylabel('Accuracy')\n",
    "plt.xlabel('Dataset')\n",
    "plt.legend(title='Model')\n",
    "plt.show()"
   ]
  },
  {
   "cell_type": "code",
   "execution_count": 10,
   "metadata": {},
   "outputs": [
    {
     "data": {
      "image/png": "[encoded data removed]",
      "text/plain": [
       "<Figure size 1200x600 with 1 Axes>"
      ]
     },
     "metadata": {},
     "output_type": "display_data"
    }
   ],
   "source": [
    "plt.figure(figsize=(12,6))\n",
    "sns.barplot(data=df, x='dataset', y='auc', hue='model')\n",
    "plt.title('AUC Comparison Across Configurations')\n",
    "plt.ylabel('AUC')\n",
    "plt.xlabel('Dataset')\n",
    "plt.legend(title='Model')\n",
    "plt.show()"
   ]
  },
  {
   "cell_type": "code",
   "execution_count": 11,
   "metadata": {},
   "outputs": [
    {
     "data": {
      "image/png": "[encoded data removed]",
      "text/plain": [
       "<Figure size 1200x600 with 1 Axes>"
      ]
     },
     "metadata": {},
     "output_type": "display_data"
    }
   ],
   "source": [
    "plt.figure(figsize=(12,6))\n",
    "sns.barplot(data=df, x='dataset', y='f1_macro', hue='model')\n",
    "plt.title('F1-Macro Comparison Across Configurations')\n",
    "plt.ylabel('F1-Macro')\n",
    "plt.xlabel('Dataset')\n",
    "plt.legend(title='Model')\n",
    "plt.show()"
   ]
  }
 ],
 "metadata": {
  "kernelspec": {
   "display_name": "venv",
   "language": "python",
   "name": "python3"
  },
  "language_info": {
   "codemirror_mode": {
    "name": "ipython",
    "version": 3
   },
   "file_extension": ".py",
   "mimetype": "text/x-python",
   "name": "python",
   "nbconvert_exporter": "python",
   "pygments_lexer": "ipython3",
   "version": "3.12.7"
  }
 },
 "nbformat": 4,
 "nbformat_minor": 2
}
