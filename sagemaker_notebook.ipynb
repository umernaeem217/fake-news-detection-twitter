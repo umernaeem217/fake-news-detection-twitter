{
 "cells": [
  {
   "cell_type": "code",
   "execution_count": null,
   "metadata": {
    "vscode": {
     "languageId": "plaintext"
    }
   },
   "outputs": [],
   "source": [
    "import sagemaker\n",
    "from sagemaker.pytorch import PyTorch\n",
    "from sagemaker.tuner import HyperparameterTuner, ContinuousParameter, IntegerParameter\n",
    "\n",
    "role = sagemaker.get_execution_role()\n",
    "session = sagemaker.Session()\n",
    "\n",
    "# Provide your own ECR image or use SageMaker's PyTorch container:\n",
    "framework_version = '1.9'\n",
    "python_version = 'py38'"
   ]
  },
  {
   "cell_type": "code",
   "execution_count": null,
   "metadata": {
    "vscode": {
     "languageId": "plaintext"
    }
   },
   "outputs": [],
   "source": [
    "pytorch_estimator = PyTorch(\n",
    "    entry_point='train.py',\n",
    "    source_dir='.',\n",
    "    role=role,\n",
    "    instance_count=1,\n",
    "    instance_type='ml.m5.xlarge',\n",
    "    framework_version=framework_version,\n",
    "    py_version=python_version,\n",
    "    hyperparameters={\n",
    "        'epochs': 30,\n",
    "        'batch_size': 128\n",
    "    }\n",
    ")\n",
    "\n",
    "metric_definitions = [\n",
    "    {\n",
    "        'Name': 'Validation-accuracy',\n",
    "        'Regex': r'Validation-accuracy:\\s*([0-9\\.]+)'\n",
    "    }\n",
    "]\n",
    "pytorch_estimator.metric_definitions = metric_definitions\n",
    "\n",
    "hyperparameter_ranges = {\n",
    "    'lr': ContinuousParameter(1e-5, 0.1),\n",
    "    'wd': ContinuousParameter(1e-6, 0.1),\n",
    "    'hidden_size': IntegerParameter(64, 256),\n",
    "    'dropout': ContinuousParameter(0.0, 0.5)\n",
    "}\n",
    "\n",
    "tuner = HyperparameterTuner(\n",
    "    estimator=pytorch_estimator,\n",
    "    objective_metric_name='Validation-accuracy',\n",
    "    objective_type='Maximize',\n",
    "    hyperparameter_ranges=hyperparameter_ranges,\n",
    "    max_jobs=10,\n",
    "    max_parallel_jobs=2,\n",
    "    strategy='Bayesian'\n",
    ")\n"
   ]
  },
  {
   "cell_type": "code",
   "execution_count": null,
   "metadata": {
    "vscode": {
     "languageId": "plaintext"
    }
   },
   "outputs": [],
   "source": [
    "tuner.fit()"
   ]
  }
 ],
 "metadata": {
  "language_info": {
   "name": "python"
  }
 },
 "nbformat": 4,
 "nbformat_minor": 2
}
